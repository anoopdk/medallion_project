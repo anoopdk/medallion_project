{
 "cells": [
  {
   "cell_type": "code",
   "execution_count": 0,
   "metadata": {
    "application/vnd.databricks.v1+cell": {
     "cellMetadata": {
      "byteLimit": 2048000,
      "rowLimit": 10000
     },
     "inputWidgets": {},
     "nuid": "8992727f-ec1e-4100-b77a-f5162654e6fd",
     "showTitle": false,
     "tableResultSettingsMap": {},
     "title": ""
    }
   },
   "outputs": [],
   "source": [
    "DROP TABLE IF EXISTS workspace.silver.investor;"
   ]
  },
  {
   "cell_type": "code",
   "execution_count": 0,
   "metadata": {
    "application/vnd.databricks.v1+cell": {
     "cellMetadata": {
      "byteLimit": 2048000,
      "rowLimit": 10000
     },
     "inputWidgets": {},
     "nuid": "f6ef1f1c-c2b5-450d-96b7-bee1a63efe13",
     "showTitle": false,
     "tableResultSettingsMap": {},
     "title": ""
    }
   },
   "outputs": [],
   "source": [
    "select * from workspace.silver.transaction;"
   ]
  },
  {
   "cell_type": "code",
   "execution_count": 0,
   "metadata": {
    "application/vnd.databricks.v1+cell": {
     "cellMetadata": {
      "byteLimit": 2048000,
      "rowLimit": 10000
     },
     "inputWidgets": {},
     "nuid": "fc3443ab-af17-4737-a207-d76c4c896f0d",
     "showTitle": false,
     "tableResultSettingsMap": {},
     "title": ""
    }
   },
   "outputs": [],
   "source": [
    "describe extended workspace.bronze.investor"
   ]
  },
  {
   "cell_type": "code",
   "execution_count": 0,
   "metadata": {
    "application/vnd.databricks.v1+cell": {
     "cellMetadata": {
      "byteLimit": 2048000,
      "rowLimit": 10000
     },
     "inputWidgets": {},
     "nuid": "1d03dd2d-d935-4f86-ac1c-e6f7e5241421",
     "showTitle": false,
     "tableResultSettingsMap": {},
     "title": ""
    }
   },
   "outputs": [],
   "source": [
    "%python\n",
    "from pyspark.sql.functions import col\n",
    "\n",
    "table_name = \"transaction\"\n",
    "fields_df = (\n",
    "\n",
    "    spark.table(\"workspace.control.source_file_details\")\n",
    "    .filter(col(\"file_name\") == table_name)\n",
    "    .join(\n",
    "        spark.table(\"workspace.control.source_file_specifications\"),\n",
    "        \"source_id\"\n",
    "    )\n",
    "    .select(\"field_name\", \"data_type\")\n",
    ")\n",
    "\n",
    "display(fields_df)\n",
    "\n",
    "string_cols = [row.field_name for row in fields_df.filter(col(\"data_type\").rlike(\"(?i)string|char|text\")).collect()]\n",
    "display(string_cols)\n",
    "numeric_cols = [row.field_name for row in fields_df.filter(col(\"data_type\").rlike(\"(?i)int|float|double|decimal|number\")).collect()]\n",
    "display(numeric_cols)\n",
    "date_cols = [row.field_name for row in fields_df.filter(col(\"data_type\").rlike(\"(?i)date|timestamp\")).collect()]\n",
    "display(date_cols)"
   ]
  },
  {
   "cell_type": "code",
   "execution_count": 0,
   "metadata": {
    "application/vnd.databricks.v1+cell": {
     "cellMetadata": {
      "byteLimit": 2048000,
      "rowLimit": 10000
     },
     "inputWidgets": {},
     "nuid": "2c40e08c-00af-4d49-adeb-3fd797d2e32d",
     "showTitle": false,
     "tableResultSettingsMap": {},
     "title": ""
    }
   },
   "outputs": [],
   "source": [
    "select * from workspace.silver.investment"
   ]
  }
 ],
 "metadata": {
  "application/vnd.databricks.v1+notebook": {
   "computePreferences": null,
   "dashboards": [],
   "environmentMetadata": {
    "base_environment": "",
    "environment_version": "3"
   },
   "inputWidgetPreferences": null,
   "language": "sql",
   "notebookMetadata": {
    "pythonIndentUnit": 4
   },
   "notebookName": "dev_workbook",
   "widgets": {}
  },
  "language_info": {
   "name": "sql"
  }
 },
 "nbformat": 4,
 "nbformat_minor": 0
}
