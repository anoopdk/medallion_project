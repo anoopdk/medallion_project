{
 "cells": [
  {
   "cell_type": "code",
   "execution_count": 0,
   "metadata": {
    "application/vnd.databricks.v1+cell": {
     "cellMetadata": {
      "byteLimit": 2048000,
      "rowLimit": 10000
     },
     "inputWidgets": {},
     "nuid": "efdef848-bc7f-4c78-b200-57ed5466358d",
     "showTitle": false,
     "tableResultSettingsMap": {},
     "title": ""
    }
   },
   "outputs": [],
   "source": [
    "-- drop table workspace.control.source_file_details"
   ]
  },
  {
   "cell_type": "code",
   "execution_count": 0,
   "metadata": {
    "application/vnd.databricks.v1+cell": {
     "cellMetadata": {
      "byteLimit": 2048000,
      "rowLimit": 10000
     },
     "inputWidgets": {},
     "nuid": "a1c84db4-5086-435c-995f-6c9a7567a006",
     "showTitle": false,
     "tableResultSettingsMap": {},
     "title": ""
    }
   },
   "outputs": [],
   "source": [
    "CREATE TABLE IF NOT EXISTS workspace.control.source_file_details (\n",
    "    source_id INT,\n",
    "    file_name STRING,\n",
    "    file_format STRING,\n",
    "    file_delimitor STRING,   \n",
    "    file_path STRING,\n",
    "    is_header BOOLEAN,\n",
    "    load_type STRING,\n",
    "    is_active BOOLEAN\n",
    ") USING DELTA"
   ]
  },
  {
   "cell_type": "code",
   "execution_count": 0,
   "metadata": {
    "application/vnd.databricks.v1+cell": {
     "cellMetadata": {
      "byteLimit": 2048000,
      "rowLimit": 10000
     },
     "inputWidgets": {},
     "nuid": "1158cb75-2cc1-4c61-b2a3-4a4f2fb84aad",
     "showTitle": false,
     "tableResultSettingsMap": {},
     "title": ""
    }
   },
   "outputs": [],
   "source": [
    "INSERT INTO workspace.control.source_file_details (\n",
    "    source_id, file_name, file_format, file_delimitor, file_path, is_header, load_type, is_active\n",
    ") VALUES\n",
    "(1, 'investor', 'csv', ',', '/Volumes/workspace/source/landing/investor.csv', true, 'full_load', true),\n",
    "(2, 'investment', 'csv', ',', '/Volumes/workspace/source/landing/investment.csv', true, 'full_load', true),\n",
    "(3, 'transaction', 'csv', ',', '/Volumes/workspace/source/landing/transaction.csv', true, 'incremental', true);"
   ]
  },
  {
   "cell_type": "code",
   "execution_count": 0,
   "metadata": {
    "application/vnd.databricks.v1+cell": {
     "cellMetadata": {
      "byteLimit": 2048000,
      "rowLimit": 10000
     },
     "inputWidgets": {},
     "nuid": "db58ddef-6141-406e-8b4b-e0c2ee92d421",
     "showTitle": false,
     "tableResultSettingsMap": {},
     "title": ""
    }
   },
   "outputs": [],
   "source": [
    "select * from workspace.control.source_file_details"
   ]
  },
  {
   "cell_type": "code",
   "execution_count": 0,
   "metadata": {
    "application/vnd.databricks.v1+cell": {
     "cellMetadata": {
      "byteLimit": 2048000,
      "rowLimit": 10000
     },
     "inputWidgets": {},
     "nuid": "40a0b51c-8bf5-4355-a0be-a8efb9f0760e",
     "showTitle": false,
     "tableResultSettingsMap": {},
     "title": ""
    }
   },
   "outputs": [],
   "source": [
    "-- drop table workspace.control.metadata_source_files"
   ]
  },
  {
   "cell_type": "code",
   "execution_count": 0,
   "metadata": {
    "application/vnd.databricks.v1+cell": {
     "cellMetadata": {
      "byteLimit": 2048000,
      "rowLimit": 10000
     },
     "inputWidgets": {},
     "nuid": "09341040-a788-45d8-9676-86acfde9ec43",
     "showTitle": false,
     "tableResultSettingsMap": {},
     "title": ""
    }
   },
   "outputs": [],
   "source": [
    "-- drop table workspace.control.source_file_specifications"
   ]
  },
  {
   "cell_type": "code",
   "execution_count": 0,
   "metadata": {
    "application/vnd.databricks.v1+cell": {
     "cellMetadata": {
      "byteLimit": 2048000,
      "rowLimit": 10000
     },
     "inputWidgets": {},
     "nuid": "78241d5d-2253-4120-8340-4aa9c2046ee7",
     "showTitle": false,
     "tableResultSettingsMap": {},
     "title": ""
    }
   },
   "outputs": [],
   "source": [
    "CREATE TABLE IF NOT EXISTS workspace.control.source_file_specifications (\n",
    "    source_id INT,\n",
    "    field_name STRING,\n",
    "    data_type STRING,\n",
    "    field_order INT,\n",
    "    description STRING,\n",
    "    is_active BOOLEAN\n",
    ") USING DELTA;"
   ]
  },
  {
   "cell_type": "code",
   "execution_count": 0,
   "metadata": {
    "application/vnd.databricks.v1+cell": {
     "cellMetadata": {
      "byteLimit": 2048000,
      "rowLimit": 10000
     },
     "inputWidgets": {},
     "nuid": "ca015f4d-9b12-42f7-bf13-fbfeda816dfa",
     "showTitle": false,
     "tableResultSettingsMap": {},
     "title": ""
    }
   },
   "outputs": [],
   "source": [
    "-- truncate table workspace.control.source_file_specifications"
   ]
  },
  {
   "cell_type": "code",
   "execution_count": 0,
   "metadata": {
    "application/vnd.databricks.v1+cell": {
     "cellMetadata": {
      "byteLimit": 2048000,
      "rowLimit": 10000
     },
     "inputWidgets": {},
     "nuid": "045afbb9-de28-4eb6-91b2-e0e53e844574",
     "showTitle": false,
     "tableResultSettingsMap": {},
     "title": ""
    }
   },
   "outputs": [],
   "source": [
    "INSERT INTO workspace.control.source_file_specifications (source_id, field_name, data_type, field_order, description, is_active) VALUES\n",
    "(1, 'investor_id', 'Integer', 1, 'Unique identifier for the investor', true),\n",
    "(1, 'investor_type', 'String', 2, 'Type of investor (institutional, individual)', true),\n",
    "(2, 'investment', 'String', 1, 'Name or code of the investment', true),\n",
    "(2, 'entry_date', 'Date', 2, 'Date the investment was entered', true),\n",
    "(2, 'exit_date', 'Date', 3, 'Date the investment was exited', true),\n",
    "(3, 'transaction_id', 'String', 1, 'Unique identifier for each transaction', true),\n",
    "(3, 'fund', 'String', 2, 'Name of the investment fund', true),\n",
    "(3, 'investor_id', 'Integer', 3, 'Unique identifier for the investor', true),\n",
    "(3, 'gl_date', 'Date', 4, 'General ledger transaction date', true),\n",
    "(3, 'transaction_type', 'String', 5, 'Type of transaction (contribution, distribution, expense)', true),\n",
    "(3, 'investment', 'String', 6, 'Name of the investment (redacted to PortCoX)', true),\n",
    "(3, 'currency', 'String', 7, 'Currency code (e.g. EUR)', true),\n",
    "(3, 'amount', 'Double', 8, 'Transaction amount', true),\n",
    "(3, '_export_date', 'Date', 9, 'Date the record was exported', true);"
   ]
  },
  {
   "cell_type": "code",
   "execution_count": 0,
   "metadata": {
    "application/vnd.databricks.v1+cell": {
     "cellMetadata": {
      "byteLimit": 2048000,
      "rowLimit": 10000
     },
     "inputWidgets": {},
     "nuid": "119f2bdd-154b-44eb-846d-fa0c3fa27c4e",
     "showTitle": false,
     "tableResultSettingsMap": {},
     "title": ""
    }
   },
   "outputs": [],
   "source": [
    "select * from workspace.control.source_file_specifications"
   ]
  },
  {
   "cell_type": "code",
   "execution_count": 0,
   "metadata": {
    "application/vnd.databricks.v1+cell": {
     "cellMetadata": {
      "byteLimit": 2048000,
      "rowLimit": 10000
     },
     "inputWidgets": {},
     "nuid": "a3b2dd5d-d5da-464e-b506-7a6883d8e49d",
     "showTitle": false,
     "tableResultSettingsMap": {},
     "title": ""
    }
   },
   "outputs": [],
   "source": [
    "CREATE TABLE IF NOT EXISTS workspace.control.enrich_table_constraints (\n",
    "    table_name STRING,\n",
    "    field_name STRING,\n",
    "    field_data_type STRING,\n",
    "    field_rename STRING,\n",
    "    field_constraint STRING,\n",
    "    default_value STRING,\n",
    "    is_active BOOLEAN\n",
    ") USING DELTA;"
   ]
  },
  {
   "cell_type": "code",
   "execution_count": 0,
   "metadata": {
    "application/vnd.databricks.v1+cell": {
     "cellMetadata": {
      "byteLimit": 2048000,
      "rowLimit": 10000
     },
     "inputWidgets": {},
     "nuid": "15b4dba0-a9dd-45ae-ac1b-ad9be340a13f",
     "showTitle": false,
     "tableResultSettingsMap": {},
     "title": ""
    }
   },
   "outputs": [],
   "source": [
    "-- drop table workspace.control.enrich_table_constraints"
   ]
  },
  {
   "cell_type": "code",
   "execution_count": 0,
   "metadata": {
    "application/vnd.databricks.v1+cell": {
     "cellMetadata": {
      "byteLimit": 2048000,
      "rowLimit": 10000
     },
     "inputWidgets": {},
     "nuid": "f77c6470-325c-40af-a326-608d37c4e821",
     "showTitle": false,
     "tableResultSettingsMap": {},
     "title": ""
    }
   },
   "outputs": [],
   "source": [
    "INSERT INTO workspace.control.enrich_table_constraints (table_name, field_name, field_data_type, field_rename, field_constraint, default_value, is_active) VALUES\n",
    "('investor', 'investor_id', 'Integer', 'na', 'primary key', 'na', true),\n",
    "('investment', 'investment', 'String', 'na', 'primary key', 'na', true),\n",
    "('investment', 'exit_date', 'Date', 'na', 'na', '9999-12-31', true),\n",
    "('transaction', 'transaction_id', 'Integer', 'na', 'not null', 'na', true),\n",
    "('transaction', 'investor_id', 'Integer', 'na', 'not null', 'na', true),\n",
    "('transaction', 'investment', 'String', 'na', 'not null', 'na', true),\n",
    "('transaction', '_export_date', 'String', 'export_date', 'not null', 'na', true);"
   ]
  },
  {
   "cell_type": "code",
   "execution_count": 0,
   "metadata": {
    "application/vnd.databricks.v1+cell": {
     "cellMetadata": {
      "byteLimit": 2048000,
      "rowLimit": 10000
     },
     "inputWidgets": {},
     "nuid": "bc4786eb-65cb-489a-8984-49619ace9ed6",
     "showTitle": false,
     "tableResultSettingsMap": {
      "0": {
       "dataGridStateBlob": "{\"version\":1,\"tableState\":{\"columnPinning\":{\"left\":[\"#row_number#\"],\"right\":[]},\"columnSizing\":{},\"columnVisibility\":{}},\"settings\":{\"columns\":{}},\"syncTimestamp\":1759546108289}",
       "filterBlob": null,
       "queryPlanFiltersBlob": null,
       "tableResultIndex": 0
      }
     },
     "title": ""
    }
   },
   "outputs": [],
   "source": [
    "select * from workspace.control.enrich_table_constraints"
   ]
  },
  {
   "cell_type": "code",
   "execution_count": 0,
   "metadata": {
    "application/vnd.databricks.v1+cell": {
     "cellMetadata": {
      "byteLimit": 2048000,
      "rowLimit": 10000
     },
     "inputWidgets": {},
     "nuid": "14bb1d69-1b30-4e4d-ace7-712cb251e1e8",
     "showTitle": false,
     "tableResultSettingsMap": {},
     "title": ""
    }
   },
   "outputs": [],
   "source": [
    "CREATE TABLE IF NOT EXISTS workspace.control.curated_table_mapping (\n",
    "\tcurated_table_id INT,\n",
    "\tsource_schema STRING,\n",
    "\tsource_table_name STRING,\n",
    "  source_field_name STRING,\n",
    "\ttareget_table_sequency INT,\n",
    "\ttarget_schema STRING,\n",
    "\ttarget_table_name STRING,\n",
    "\ttarget_field_name STRING,\n",
    "  target_data_type STRING, \n",
    "\ttaregt_field_order INT,\t\n",
    "  is_active BOOLEAN\n",
    ") USING DELTA;"
   ]
  },
  {
   "cell_type": "code",
   "execution_count": 0,
   "metadata": {
    "application/vnd.databricks.v1+cell": {
     "cellMetadata": {
      "byteLimit": 2048000,
      "rowLimit": 10000
     },
     "inputWidgets": {},
     "nuid": "af20e814-812c-4d3f-b9b7-d3cf3d47b784",
     "showTitle": false,
     "tableResultSettingsMap": {},
     "title": ""
    }
   },
   "outputs": [],
   "source": [
    "INSERT INTO workspace.control.curated_table_mapping (curated_table_id, source_schema, source_table_name, source_field_name, tareget_table_sequency, target_schema, target_table_name, target_field_name, target_data_type, taregt_field_order, is_active) VALUES\n",
    "(1, 'workspace.silver', 'investor', 'investor_id', 1, 'workspace.gold', 'dim_investor', 'investor_id', 'Integer', 1, true),\n",
    "(1, 'workspace.silver', 'investor', 'investor_type', 1, 'workspace.gold', 'dim_investor', 'investor_type', 'String', 2, true),\n",
    "(2, 'workspace.silver', 'investment', 'investment', 2, 'workspace.gold', 'dim_investment', 'investment', 'String', 1, true),\n",
    "(2, 'workspace.silver', 'investment', 'entry_date', 2, 'workspace.gold', 'dim_investment', 'entry_date', 'Date', 2, true),\n",
    "(2, 'workspace.silver', 'investment', 'exit_date', 2, 'workspace.gold', 'dim_investment', 'exit_date', 'Date', 3, true),\n",
    "(3, 'workspace.silver', 'transaction', 'transaction_id', 3, 'workspace.gold', 'fact_transaction', 'transaction_id', 'String', 1, true),\n",
    "(3, 'workspace.silver', 'transaction', 'fund', 3, 'workspace.gold', 'fact_transaction', 'fund', 'String', 2, true),\n",
    "(3, 'workspace.silver', 'transaction', 'investor_id', 3, 'workspace.gold', 'fact_transaction', 'investor_id', 'Integer', 3, true),\n",
    "(3, 'workspace.silver', 'transaction', 'gl_date', 3, 'workspace.gold', 'fact_transaction', 'gl_date',  'Date', 4, true),\n",
    "(3, 'workspace.silver', 'transaction', 'transaction_type', 3, 'workspace.gold', 'fact_transaction', 'transaction_type', 'String', 5, true),\n",
    "(3, 'workspace.silver', 'transaction', 'investment', 3, 'workspace.gold', 'fact_transaction', 'investment', 'String', 6, true),\n",
    "(3, 'workspace.silver', 'transaction', 'currency', 3, 'workspace.gold', 'fact_transaction', 'currency', 'String', 7, true),\n",
    "(3, 'workspace.silver', 'transaction', 'amount', 3, 'workspace.gold', 'fact_transaction', 'amount', 'Double(20,2)', 8, true),\n",
    "(3, 'workspace.silver', 'transaction', '_export_date', 3, 'workspace.gold', 'fact_transaction', 'export_date', 'Date', 9, true);"
   ]
  },
  {
   "cell_type": "code",
   "execution_count": 0,
   "metadata": {
    "application/vnd.databricks.v1+cell": {
     "cellMetadata": {
      "byteLimit": 2048000,
      "rowLimit": 10000
     },
     "inputWidgets": {},
     "nuid": "7d0196df-c89c-42c0-9807-811d87ca9dae",
     "showTitle": false,
     "tableResultSettingsMap": {},
     "title": ""
    }
   },
   "outputs": [],
   "source": [
    "-- drop table workspace.control.curated_table_mapping"
   ]
  },
  {
   "cell_type": "code",
   "execution_count": 0,
   "metadata": {
    "application/vnd.databricks.v1+cell": {
     "cellMetadata": {
      "byteLimit": 2048000,
      "rowLimit": 10000
     },
     "inputWidgets": {},
     "nuid": "88e78700-5d8e-4221-923b-88821d9c00fa",
     "showTitle": false,
     "tableResultSettingsMap": {},
     "title": ""
    }
   },
   "outputs": [],
   "source": [
    "select * from workspace.control.curated_table_mapping"
   ]
  }
 ],
 "metadata": {
  "application/vnd.databricks.v1+notebook": {
   "computePreferences": {
    "hardware": {
     "accelerator": null,
     "gpuPoolId": null,
     "memory": null
    }
   },
   "dashboards": [],
   "environmentMetadata": {
    "base_environment": "",
    "environment_version": "3"
   },
   "inputWidgetPreferences": null,
   "language": "sql",
   "notebookMetadata": {
    "pythonIndentUnit": 4
   },
   "notebookName": "metadata_source_table",
   "widgets": {}
  },
  "language_info": {
   "name": "sql"
  }
 },
 "nbformat": 4,
 "nbformat_minor": 0
}
