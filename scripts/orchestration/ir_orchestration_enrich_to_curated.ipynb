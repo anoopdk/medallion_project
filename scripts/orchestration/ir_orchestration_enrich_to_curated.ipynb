{
 "cells": [
  {
   "cell_type": "code",
   "execution_count": 0,
   "metadata": {
    "application/vnd.databricks.v1+cell": {
     "cellMetadata": {
      "byteLimit": 2048000,
      "rowLimit": 10000
     },
     "inputWidgets": {},
     "nuid": "2aab3ddc-d58c-496b-8b06-b46bfd9c3892",
     "showTitle": false,
     "tableResultSettingsMap": {},
     "title": ""
    }
   },
   "outputs": [],
   "source": [
    "from pyspark.sql.functions import col"
   ]
  },
  {
   "cell_type": "code",
   "execution_count": 0,
   "metadata": {
    "application/vnd.databricks.v1+cell": {
     "cellMetadata": {
      "byteLimit": 2048000,
      "rowLimit": 10000
     },
     "inputWidgets": {},
     "nuid": "a2f2ba23-62be-4cbe-9971-d8c03ca119df",
     "showTitle": false,
     "tableResultSettingsMap": {},
     "title": ""
    }
   },
   "outputs": [],
   "source": [
    "dbutils.widgets.removeAll()"
   ]
  },
  {
   "cell_type": "code",
   "execution_count": 0,
   "metadata": {
    "application/vnd.databricks.v1+cell": {
     "cellMetadata": {
      "byteLimit": 2048000,
      "rowLimit": 10000
     },
     "inputWidgets": {},
     "nuid": "20188483-e05b-404c-919f-568ba99f4705",
     "showTitle": false,
     "tableResultSettingsMap": {},
     "title": ""
    }
   },
   "outputs": [],
   "source": [
    "dbutils.widgets.text(\"target_table_name\", \"ALL\")"
   ]
  },
  {
   "cell_type": "code",
   "execution_count": 0,
   "metadata": {
    "application/vnd.databricks.v1+cell": {
     "cellMetadata": {
      "byteLimit": 2048000,
      "rowLimit": 10000
     },
     "inputWidgets": {},
     "nuid": "c3607169-2922-4a8c-91b2-287fe41074ca",
     "showTitle": false,
     "tableResultSettingsMap": {},
     "title": ""
    }
   },
   "outputs": [],
   "source": [
    "target_input = dbutils.widgets.get(\"target_table_name\")"
   ]
  },
  {
   "cell_type": "code",
   "execution_count": 0,
   "metadata": {
    "application/vnd.databricks.v1+cell": {
     "cellMetadata": {
      "byteLimit": 2048000,
      "rowLimit": 10000
     },
     "inputWidgets": {},
     "nuid": "9754b15b-23af-4a73-989c-eb1655632f55",
     "showTitle": false,
     "tableResultSettingsMap": {},
     "title": ""
    }
   },
   "outputs": [],
   "source": [
    "def load_curated_table(target_table_name, mapping_df):\n",
    "    try:\n",
    "        table_map = (\n",
    "            mapping_df\n",
    "            .filter(col(\"target_table_name\") == target_table_name)\n",
    "            .orderBy(\"taregt_field_order\")\n",
    "        )\n",
    "        curated_table_id = table_map.select(\"curated_table_id\").first().curated_table_id\n",
    "        source_schema = table_map.select(\"source_schema\").first().source_schema\n",
    "        source_table_name = table_map.select(\"source_table_name\").first().source_table_name\n",
    "\n",
    "        source_fields = [row.source_field_name for row in table_map.collect()]\n",
    "        target_fields = [row.target_field_name for row in table_map.collect()]\n",
    "        target_types = [row.target_data_type for row in table_map.collect()]\n",
    "        target_schema = table_map.select(\"target_schema\").first().target_schema\n",
    "\n",
    "        source_df = spark.table(f\"{source_schema}.{source_table_name}\").select(*source_fields)\n",
    "        for idx, tgt_col in enumerate(target_fields):\n",
    "            src_col = source_fields[idx]\n",
    "            tgt_type = target_types[idx]\n",
    "            source_df = source_df.withColumnRenamed(src_col, tgt_col).withColumn(tgt_col, col(tgt_col).cast(tgt_type))\n",
    "\n",
    "        target_full_name = f\"{target_schema}.{target_table_name}\"\n",
    "        spark.sql(f\"CREATE TABLE IF NOT EXISTS {target_full_name} ({', '.join([f'{c} {t}' for c, t in zip(target_fields, target_types)])})\")\n",
    "        source_df.write.mode(\"append\").insertInto(target_full_name)\n",
    "    except Exception as e:\n",
    "        raise RuntimeError(f\"Failed to load table {target_table_name}: {str(e)}\")"
   ]
  },
  {
   "cell_type": "code",
   "execution_count": 0,
   "metadata": {
    "application/vnd.databricks.v1+cell": {
     "cellMetadata": {
      "byteLimit": 2048000,
      "rowLimit": 10000
     },
     "inputWidgets": {},
     "nuid": "568e22c5-948c-4e75-abb9-14ccec46112b",
     "showTitle": false,
     "tableResultSettingsMap": {},
     "title": ""
    }
   },
   "outputs": [],
   "source": [
    "mapping_df = (\n",
    "    spark.table(\"workspace.control.curated_table_mapping\")\n",
    "    .filter(col(\"is_active\") == True)\n",
    ")\n",
    "\n",
    "if target_input.upper() == \"ALL\":\n",
    "    table_seq_df = (\n",
    "        mapping_df\n",
    "        .select(\"curated_table_id\", \"target_table_name\", \"tareget_table_sequency\")\n",
    "        .distinct()\n",
    "        .orderBy(\"tareget_table_sequency\")\n",
    "    )\n",
    "    table_list = [row.target_table_name for row in table_seq_df.collect()]\n",
    "else:\n",
    "    table_list = [target_input]"
   ]
  },
  {
   "cell_type": "code",
   "execution_count": 0,
   "metadata": {
    "application/vnd.databricks.v1+cell": {
     "cellMetadata": {
      "byteLimit": 2048000,
      "rowLimit": 10000
     },
     "inputWidgets": {},
     "nuid": "3340568e-5ab8-4200-a5b1-a9687c66d43a",
     "showTitle": false,
     "tableResultSettingsMap": {
      "0": {
       "dataGridStateBlob": "{\"version\":1,\"tableState\":{\"columnPinning\":{\"left\":[\"#row_number#\"],\"right\":[]},\"columnSizing\":{\"_1\":156},\"columnVisibility\":{}},\"settings\":{\"columns\":{}},\"syncTimestamp\":1759577286169}",
       "filterBlob": null,
       "queryPlanFiltersBlob": null,
       "tableResultIndex": 0
      }
     },
     "title": ""
    }
   },
   "outputs": [],
   "source": [
    "display(table_list)"
   ]
  },
  {
   "cell_type": "code",
   "execution_count": 0,
   "metadata": {
    "application/vnd.databricks.v1+cell": {
     "cellMetadata": {
      "byteLimit": 2048000,
      "rowLimit": 10000
     },
     "inputWidgets": {},
     "nuid": "8bbaf230-9906-4996-8585-20326214d3e0",
     "showTitle": false,
     "tableResultSettingsMap": {},
     "title": ""
    }
   },
   "outputs": [],
   "source": [
    "for tgt_table in table_list:\n",
    "    load_curated_table(tgt_table, mapping_df)"
   ]
  }
 ],
 "metadata": {
  "application/vnd.databricks.v1+notebook": {
   "computePreferences": null,
   "dashboards": [],
   "environmentMetadata": {
    "base_environment": "",
    "environment_version": "3"
   },
   "inputWidgetPreferences": null,
   "language": "python",
   "notebookMetadata": {
    "pythonIndentUnit": 4
   },
   "notebookName": "ir_orchestration_enrich_to_curated",
   "widgets": {
    "target_table_name": {
     "currentValue": "ALL",
     "nuid": "8c02bfc5-1e4a-448d-8003-1c12189c4682",
     "typedWidgetInfo": {
      "autoCreated": false,
      "defaultValue": "ALL",
      "label": null,
      "name": "target_table_name",
      "options": {
       "widgetDisplayType": "Text",
       "validationRegex": null
      },
      "parameterDataType": "String"
     },
     "widgetInfo": {
      "widgetType": "text",
      "defaultValue": "ALL",
      "label": null,
      "name": "target_table_name",
      "options": {
       "widgetType": "text",
       "autoCreated": false,
       "validationRegex": null
      }
     }
    }
   }
  },
  "language_info": {
   "name": "python"
  }
 },
 "nbformat": 4,
 "nbformat_minor": 0
}
