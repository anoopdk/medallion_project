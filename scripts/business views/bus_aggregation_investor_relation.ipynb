{
 "cells": [
  {
   "cell_type": "code",
   "execution_count": 0,
   "metadata": {
    "application/vnd.databricks.v1+cell": {
     "cellMetadata": {
      "byteLimit": 2048000,
      "rowLimit": 10000
     },
     "inputWidgets": {},
     "nuid": "795bf837-3d62-4f4c-b07e-ecd509b98c3f",
     "showTitle": false,
     "tableResultSettingsMap": {
      "0": {
       "dataGridStateBlob": "{\"version\":1,\"tableState\":{\"columnPinning\":{\"left\":[\"#row_number#\"],\"right\":[]},\"columnSizing\":{},\"columnVisibility\":{}},\"settings\":{\"columns\":{}},\"syncTimestamp\":1759578521666}",
       "filterBlob": null,
       "queryPlanFiltersBlob": null,
       "tableResultIndex": 0
      }
     },
     "title": ""
    }
   },
   "outputs": [],
   "source": [
    "CREATE OR REPLACE VIEW workspace.gold.vw_investor_relation AS\n",
    "  SELECT \n",
    "  investor.investor_id,\n",
    "  investor.investor_type,\n",
    "  transact.transaction_type,\n",
    "  transact.fund,\n",
    "  investment.investment,\n",
    "  investment.entry_date,\n",
    "  investment.exit_date,\n",
    "  transact.gl_date,\n",
    "  transact.amount,\n",
    "  transact.export_date\n",
    "  FROM workspace.gold.fact_transaction AS transact  \n",
    "  LEFT JOIN workspace.gold.dim_investor AS investor\n",
    "  ON transact.investor_id = investor.investor_id\n",
    "  LEFT JOIN workspace.gold.dim_investment AS investment\n",
    "  ON transact.investment = investment.investment\n"
   ]
  },
  {
   "cell_type": "markdown",
   "metadata": {
    "application/vnd.databricks.v1+cell": {
     "cellMetadata": {},
     "inputWidgets": {},
     "nuid": "d8774ca3-28fb-4150-ad3a-be7ae7ab6685",
     "showTitle": false,
     "tableResultSettingsMap": {},
     "title": ""
    }
   },
   "source": [
    "# Defining Problem Statments\n",
    "\n",
    "##### 1. Summarize overall performance of fund 'Fund Two' for Investor 7002.\n",
    "##### 2. Compare our returns vs. other Fund Two investors.\n",
    "##### 3. Show trend of MoM since initial investments.\n",
    "##### 4. Identify post-hoc adjustments. "
   ]
  },
  {
   "cell_type": "markdown",
   "metadata": {
    "application/vnd.databricks.v1+cell": {
     "cellMetadata": {},
     "inputWidgets": {},
     "nuid": "678651fd-0c2a-4960-876d-09be66478365",
     "showTitle": false,
     "tableResultSettingsMap": {},
     "title": ""
    }
   },
   "source": [
    "## 1 - Summarize overall performance of fund 'Fund Two' for Investor 7002"
   ]
  },
  {
   "cell_type": "code",
   "execution_count": 0,
   "metadata": {
    "application/vnd.databricks.v1+cell": {
     "cellMetadata": {
      "byteLimit": 2048000,
      "rowLimit": 10000
     },
     "inputWidgets": {},
     "nuid": "a577f416-1c56-4ade-bb63-b1fe92e98918",
     "showTitle": false,
     "tableResultSettingsMap": {
      "0": {
       "dataGridStateBlob": "{\"version\":1,\"tableState\":{\"columnPinning\":{\"left\":[\"#row_number#\"],\"right\":[]},\"columnSizing\":{},\"columnVisibility\":{}},\"settings\":{\"columns\":{}},\"syncTimestamp\":1759598016054}",
       "filterBlob": null,
       "queryPlanFiltersBlob": null,
       "tableResultIndex": 0
      }
     },
     "title": ""
    }
   },
   "outputs": [],
   "source": [
    "SELECT\n",
    "  investor_id,\n",
    "  fund,  \n",
    "  ROUND(SUM(CASE WHEN LOWER(transaction_type) in ('expense', 'contribution') THEN amount ELSE 0 END), 2) AS total_invested,\n",
    "  ROUND(SUM(CASE WHEN LOWER(transaction_type) = 'distribution' THEN amount ELSE 0 END), 2) AS total_returned,\n",
    "  ROUND(total_returned / NULLIF(total_invested,0),2) as multiple_on_money\n",
    "FROM workspace.gold.vw_investor_relation\n",
    "WHERE 1=1\n",
    "AND LOWER(fund) = 'fund_two'\n",
    "and investor_id = 7002\n",
    "GROUP BY investor_id, fund\n",
    "ORDER BY investor_id;"
   ]
  },
  {
   "cell_type": "markdown",
   "metadata": {
    "application/vnd.databricks.v1+cell": {
     "cellMetadata": {},
     "inputWidgets": {},
     "nuid": "d8506bcf-4834-4f6a-bfb0-b01ea7d1746f",
     "showTitle": false,
     "tableResultSettingsMap": {},
     "title": ""
    }
   },
   "source": [
    "## 2 - Compare Investor 7002 vs. other Fund Two Investors"
   ]
  },
  {
   "cell_type": "code",
   "execution_count": 0,
   "metadata": {
    "application/vnd.databricks.v1+cell": {
     "cellMetadata": {
      "byteLimit": 2048000,
      "rowLimit": 10000
     },
     "inputWidgets": {},
     "nuid": "0f556b6a-55d8-4988-8c03-268b74d36c20",
     "showTitle": false,
     "tableResultSettingsMap": {},
     "title": ""
    }
   },
   "outputs": [],
   "source": [
    "WITH investor_mom AS (\n",
    "  SELECT \n",
    "  investor_id,\n",
    "  ROUND(\n",
    "    SUM(CASE WHEN LOWER(transaction_type) in ('expense', 'contribution') THEN amount ELSE 0 END) / \n",
    "    NULLIF(SUM(CASE WHEN LOWER(transaction_type) = 'distribution' THEN amount ELSE 0 END), 0), 2\n",
    "   ) AS MOM\n",
    "  FROM workspace.gold.vw_investor_relation\n",
    "  WHERE 1=1\n",
    "  AND LOWER(fund) = 'fund_two'\n",
    "  GROUP BY investor_id\n",
    ")\n",
    "SELECT\n",
    "  a.investor_id,\n",
    "  a.mom AS investor_7002_mom,  \n",
    "  ROUND(AVG(b.mom), 2) AS avg_mom_all_investors,\n",
    "  ROUND(a.mom - AVG(b.mom), 2) AS diff_from_avg\n",
    "FROM investor_mom AS a\n",
    "CROSS JOIN investor_mom AS b\n",
    "WHERE 1=1\n",
    "AND a.investor_id = 7002\n",
    "GROUP BY a.investor_id, a.mom\n",
    "ORDER BY a.investor_id"
   ]
  },
  {
   "cell_type": "markdown",
   "metadata": {
    "application/vnd.databricks.v1+cell": {
     "cellMetadata": {},
     "inputWidgets": {},
     "nuid": "ef4075d1-1cd5-4972-9be1-60113c3b87fb",
     "showTitle": false,
     "tableResultSettingsMap": {},
     "title": ""
    }
   },
   "source": [
    "## 3 - Show trend of MoM since initial investments"
   ]
  },
  {
   "cell_type": "code",
   "execution_count": 0,
   "metadata": {
    "application/vnd.databricks.v1+cell": {
     "cellMetadata": {
      "byteLimit": 2048000,
      "rowLimit": 10000
     },
     "inputWidgets": {},
     "nuid": "898ae933-cfa1-4019-90c7-6859c4927bc9",
     "showTitle": false,
     "tableResultSettingsMap": {
      "0": {
       "dataGridStateBlob": "{\"version\":1,\"tableState\":{\"columnPinning\":{\"left\":[\"#row_number#\"],\"right\":[]},\"columnSizing\":{\"quarter_start\":241},\"columnVisibility\":{}},\"settings\":{\"columns\":{}},\"syncTimestamp\":1759603467044}",
       "filterBlob": null,
       "queryPlanFiltersBlob": null,
       "tableResultIndex": 0
      }
     },
     "title": ""
    }
   },
   "outputs": [],
   "source": [
    "-- WITH txn AS (\n",
    "WITH txn AS (\n",
    "  SELECT\n",
    "    investor_id,\n",
    "    fund,\n",
    "    DATE_TRUNC('quarter', export_date) AS quarter_start,\n",
    "    SUM(CASE WHEN LOWER(transaction_type) in ('expense', 'contribution') THEN amount ELSE 0 END) AS total_invested,\n",
    "    SUM(CASE WHEN LOWER(transaction_type) = 'distribution' THEN amount ELSE 0 END) AS total_returned\n",
    "  FROM workspace.gold.vw_investor_relation\n",
    "  WHERE 1=1\n",
    "  AND LOWER(fund) = 'fund_two'\n",
    "  AND investor_id = 7002\n",
    "  GROUP BY investor_id, fund, DATE_TRUNC('quarter', export_date)\n",
    "),\n",
    "cumulative AS (\n",
    "  SELECT \n",
    "    investor_id,\n",
    "    fund,\n",
    "    quarter_start,\n",
    "    SUM(total_invested) OVER(PARTITION BY investor_id, fund ORDER BY quarter_start ROWS BETWEEN UNBOUNDED PRECEDING AND CURRENT ROW) AS cum_inflow,\n",
    "    SUM(total_returned) OVER(PARTITION BY investor_id, fund ORDER BY quarter_start ROWS BETWEEN UNBOUNDED PRECEDING AND CURRENT ROW) AS cum_outflow\n",
    "  FROM txn\n",
    ")\n",
    "SELECT\n",
    "  investor_id,\n",
    "  fund,\n",
    "  CAST(quarter_start AS DATE) AS quarter_start,\n",
    "  ROUND(cum_outflow, 2) AS cum_outflow,\n",
    "  ROUND(cum_inflow, 2) AS cum_inflow,\n",
    "  ROUND(cum_outflow / NULLIF(cum_inflow,0),2) AS cumulative_mom\n",
    "FROM cumulative\n",
    "ORDER BY quarter_start;"
   ]
  },
  {
   "cell_type": "markdown",
   "metadata": {
    "application/vnd.databricks.v1+cell": {
     "cellMetadata": {},
     "inputWidgets": {},
     "nuid": "b4c91ddb-c2f9-419b-bfff-bcff56bca6dc",
     "showTitle": false,
     "tableResultSettingsMap": {},
     "title": ""
    }
   },
   "source": [
    "## 4 - Identify post-hoc adjustments"
   ]
  },
  {
   "cell_type": "code",
   "execution_count": 0,
   "metadata": {
    "application/vnd.databricks.v1+cell": {
     "cellMetadata": {
      "byteLimit": 2048000,
      "rowLimit": 10000
     },
     "inputWidgets": {},
     "nuid": "df7ee92e-fac2-47e9-9490-6aa5dedb831d",
     "showTitle": false,
     "tableResultSettingsMap": {},
     "title": ""
    }
   },
   "outputs": [],
   "source": [
    "WITH last_quarter AS (\n",
    "  SELECT MAX(export_date) AS last_quarter\n",
    "  FROM workspace.gold.vw_investor_relation\n",
    "  WHERE export_date < (SELECT MAX(export_date) FROM workspace.gold.vw_investor_relation)\n",
    ")\n",
    "SELECT\n",
    "  investor_id,\n",
    "  fund,\n",
    "  transaction_type,\n",
    "  investment,\n",
    "  amount,\n",
    "  export_date\n",
    "FROM workspace.gold.vw_investor_relation\n",
    "WHERE 1=1\n",
    "AND LOWER(fund) = 'fund_two'\n",
    "AND investor_id = 7002\n",
    "AND export_date > (SELECT last_quarter FROM last_quarter)\n",
    "ORDER BY investment ASC"
   ]
  },
  {
   "cell_type": "code",
   "execution_count": 0,
   "metadata": {
    "application/vnd.databricks.v1+cell": {
     "cellMetadata": {},
     "inputWidgets": {},
     "nuid": "0e4b07ea-2f2a-4e10-89b9-db9fcc9d8b68",
     "showTitle": false,
     "tableResultSettingsMap": {},
     "title": ""
    }
   },
   "outputs": [],
   "source": [
    "\n",
    "\n",
    "FROM workspace.gold.vw_investor_relation\n",
    "WHERE 1=1\n",
    "AND LOWER(fund) = 'fund_two'\n",
    "AND investor_id = 7002\n",
    "AND export_date >= '202\n",
    "GROUP BY investor_id, fund"
   ]
  }
 ],
 "metadata": {
  "application/vnd.databricks.v1+notebook": {
   "computePreferences": null,
   "dashboards": [],
   "environmentMetadata": {
    "base_environment": "",
    "environment_version": "3"
   },
   "inputWidgetPreferences": null,
   "language": "sql",
   "notebookMetadata": {
    "pythonIndentUnit": 4
   },
   "notebookName": "bus_aggregation_investor_relation",
   "widgets": {}
  },
  "language_info": {
   "name": "sql"
  }
 },
 "nbformat": 4,
 "nbformat_minor": 0
}
